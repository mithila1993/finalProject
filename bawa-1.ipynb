{
 "cells": [
  {
   "cell_type": "code",
   "execution_count": 23,
   "metadata": {},
   "outputs": [],
   "source": [
    "import tensorflow as tf\n",
    "tf.enable_eager_execution()\n",
    "from random import randint\n",
    "from numpy import array\n",
    "from numpy import argmax\n",
    "from tensorflow.keras.models import Sequential\n",
    "from tensorflow.keras.layers import LSTM\n",
    "from tensorflow.keras.layers import Dense\n",
    "import matplotlib.pyplot as plt"
   ]
  },
  {
   "cell_type": "code",
   "execution_count": 24,
   "metadata": {},
   "outputs": [],
   "source": [
    "def one_hot_decode(encoded_seq):\n",
    "\treturn [argmax(vector) for vector in encoded_seq]"
   ]
  },
  {
   "cell_type": "code",
   "execution_count": 25,
   "metadata": {},
   "outputs": [],
   "source": [
    "# generate a sequence of random numbers in [0, 99]\n",
    "def generate_sequence(length=10):\n",
    "\treturn [randint(0, 99) for _ in range(length)]\n"
   ]
  },
  {
   "cell_type": "code",
   "execution_count": 26,
   "metadata": {},
   "outputs": [],
   "source": [
    "# one hot encode sequence\n",
    "def one_hot_encode(sequence, n_unique=100):\n",
    "\tencoding = list()\n",
    "\tfor value in sequence:\n",
    "\t\tvector = [0 for _ in range(n_unique)]\n",
    "\t\tvector[value] = 1\n",
    "\t\tencoding.append(vector)\n",
    "\treturn array(encoding)"
   ]
  },
  {
   "cell_type": "code",
   "execution_count": 27,
   "metadata": {},
   "outputs": [],
   "source": [
    "# generate data for the lstm\n",
    "def generate_data():\n",
    "\t# generate sequence\n",
    "\tsequence = generate_sequence()\n",
    "\t# one hot encode\n",
    "\tencoded = one_hot_encode(sequence)\n",
    "\t# convert to 3d for input\n",
    "\tX = encoded.reshape(encoded.shape[0], 1, encoded.shape[1])\n",
    "\treturn X, encoded"
   ]
  },
  {
   "cell_type": "code",
   "execution_count": 28,
   "metadata": {},
   "outputs": [],
   "source": [
    "a = []\n",
    "b = []\n",
    "for i in range(1000):\n",
    "    X,y = generate_data()\n",
    "    a.append(X)\n",
    "    b.append(y)"
   ]
  },
  {
   "cell_type": "code",
   "execution_count": 29,
   "metadata": {},
   "outputs": [],
   "source": [
    "X_train = []\n",
    "y_train = []\n",
    "for x in range(750):\n",
    "    X_train.append(a[i])\n",
    "    y_train.append(b[i])\n",
    "\n",
    "X_test = []\n",
    "y_test = []\n",
    "for x in range(750,1000):\n",
    "    X_test.append(a[i])\n",
    "    y_test.append(b[i])"
   ]
  },
  {
   "cell_type": "code",
   "execution_count": 30,
   "metadata": {},
   "outputs": [],
   "source": [
    "BATCH_SIZE = 10\n",
    "BUFFER_SIZE = 20\n",
    "EVALUATION_INTERVAL = 3\n",
    "EPOCHS = 1000"
   ]
  },
  {
   "cell_type": "code",
   "execution_count": 31,
   "metadata": {},
   "outputs": [],
   "source": [
    "train_data_single = tf.data.Dataset.from_tensor_slices((X_train, y_train))\n",
    "train_data_single = train_data_single.cache().shuffle(BUFFER_SIZE).batch(BATCH_SIZE).repeat()\n",
    "\n",
    "val_data_single = tf.data.Dataset.from_tensor_slices((X_test, y_test))\n",
    "val_data_single = val_data_single.batch(BATCH_SIZE).repeat()"
   ]
  },
  {
   "cell_type": "code",
   "execution_count": 32,
   "metadata": {},
   "outputs": [
    {
     "name": "stdout",
     "output_type": "stream",
     "text": [
      "3\n",
      "(3, 2)\n",
      "[[11 22]\n",
      " [33 44]\n",
      " [55 66]]\n",
      "(1, 10, 2)\n"
     ]
    }
   ],
   "source": [
    "data = array([[11, 22],[ 33, 44],[ 55,66]])\n",
    "\n",
    "# index data\n",
    "print(data.shape[0])\n",
    "print(data.shape[-2:])\n",
    "print(data[-5:])\n",
    "\n",
    "data = array([\n",
    "\t[0.1, 1.0],\n",
    "\t[0.2, 0.9],\n",
    "\t[0.3, 0.8],\n",
    "\t[0.4, 0.7],\n",
    "\t[0.5, 0.6],\n",
    "\t[0.6, 0.5],\n",
    "\t[0.7, 0.4],\n",
    "\t[0.8, 0.3],\n",
    "\t[0.9, 0.2],\n",
    "\t[1.0, 0.1]])\n",
    "data = data.reshape(1, 10, 2)\n",
    "print(data.shape)"
   ]
  },
  {
   "cell_type": "code",
   "execution_count": 33,
   "metadata": {},
   "outputs": [],
   "source": [
    "# define model\n",
    "model = tf.keras.Sequential()\n",
    "model.add(tf.keras.layers.LSTM(15, input_shape=(750,10)))\n",
    "model.add(tf.keras.layers.Dense(750, activation='softmax'))\n",
    "model.compile(loss='categorical_crossentropy', optimizer='adam', metrics=['accuracy'])"
   ]
  },
  {
   "cell_type": "code",
   "execution_count": 34,
   "metadata": {},
   "outputs": [
    {
     "name": "stdout",
     "output_type": "stream",
     "text": [
      "Epoch 1/1000\n"
     ]
    },
    {
     "ename": "ValueError",
     "evalue": "Error when checking input: expected lstm_4_input to have 3 dimensions, but got array with shape (10, 10, 1, 100)",
     "output_type": "error",
     "traceback": [
      "\u001b[1;31m---------------------------------------------------------------------------\u001b[0m",
      "\u001b[1;31mValueError\u001b[0m                                Traceback (most recent call last)",
      "\u001b[1;32m<ipython-input-34-d1254c5e692b>\u001b[0m in \u001b[0;36m<module>\u001b[1;34m\u001b[0m\n\u001b[0;32m      2\u001b[0m                                             \u001b[0msteps_per_epoch\u001b[0m\u001b[1;33m=\u001b[0m\u001b[0mEVALUATION_INTERVAL\u001b[0m\u001b[1;33m,\u001b[0m\u001b[1;33m\u001b[0m\u001b[1;33m\u001b[0m\u001b[0m\n\u001b[0;32m      3\u001b[0m                                             \u001b[0mvalidation_data\u001b[0m\u001b[1;33m=\u001b[0m\u001b[0mval_data_single\u001b[0m\u001b[1;33m,\u001b[0m\u001b[1;33m\u001b[0m\u001b[1;33m\u001b[0m\u001b[0m\n\u001b[1;32m----> 4\u001b[1;33m                                             validation_steps=5)\n\u001b[0m",
      "\u001b[1;32m~\\Anaconda3\\lib\\site-packages\\tensorflow\\python\\keras\\engine\\training.py\u001b[0m in \u001b[0;36mfit\u001b[1;34m(self, x, y, batch_size, epochs, verbose, callbacks, validation_split, validation_data, shuffle, class_weight, sample_weight, initial_epoch, steps_per_epoch, validation_steps, validation_freq, max_queue_size, workers, use_multiprocessing, **kwargs)\u001b[0m\n\u001b[0;32m    692\u001b[0m           \u001b[0mworkers\u001b[0m\u001b[1;33m=\u001b[0m\u001b[1;36m0\u001b[0m\u001b[1;33m,\u001b[0m\u001b[1;33m\u001b[0m\u001b[1;33m\u001b[0m\u001b[0m\n\u001b[0;32m    693\u001b[0m           \u001b[0mshuffle\u001b[0m\u001b[1;33m=\u001b[0m\u001b[0mshuffle\u001b[0m\u001b[1;33m,\u001b[0m\u001b[1;33m\u001b[0m\u001b[1;33m\u001b[0m\u001b[0m\n\u001b[1;32m--> 694\u001b[1;33m           initial_epoch=initial_epoch)\n\u001b[0m\u001b[0;32m    695\u001b[0m \u001b[1;33m\u001b[0m\u001b[0m\n\u001b[0;32m    696\u001b[0m     \u001b[1;31m# Case 3: Symbolic tensors or Numpy array-like.\u001b[0m\u001b[1;33m\u001b[0m\u001b[1;33m\u001b[0m\u001b[1;33m\u001b[0m\u001b[0m\n",
      "\u001b[1;32m~\\Anaconda3\\lib\\site-packages\\tensorflow\\python\\keras\\engine\\training.py\u001b[0m in \u001b[0;36mfit_generator\u001b[1;34m(self, generator, steps_per_epoch, epochs, verbose, callbacks, validation_data, validation_steps, validation_freq, class_weight, max_queue_size, workers, use_multiprocessing, shuffle, initial_epoch)\u001b[0m\n\u001b[0;32m   1431\u001b[0m         \u001b[0mshuffle\u001b[0m\u001b[1;33m=\u001b[0m\u001b[0mshuffle\u001b[0m\u001b[1;33m,\u001b[0m\u001b[1;33m\u001b[0m\u001b[1;33m\u001b[0m\u001b[0m\n\u001b[0;32m   1432\u001b[0m         \u001b[0minitial_epoch\u001b[0m\u001b[1;33m=\u001b[0m\u001b[0minitial_epoch\u001b[0m\u001b[1;33m,\u001b[0m\u001b[1;33m\u001b[0m\u001b[1;33m\u001b[0m\u001b[0m\n\u001b[1;32m-> 1433\u001b[1;33m         steps_name='steps_per_epoch')\n\u001b[0m\u001b[0;32m   1434\u001b[0m \u001b[1;33m\u001b[0m\u001b[0m\n\u001b[0;32m   1435\u001b[0m   def evaluate_generator(self,\n",
      "\u001b[1;32m~\\Anaconda3\\lib\\site-packages\\tensorflow\\python\\keras\\engine\\training_generator.py\u001b[0m in \u001b[0;36mmodel_iteration\u001b[1;34m(model, data, steps_per_epoch, epochs, verbose, callbacks, validation_data, validation_steps, validation_freq, class_weight, max_queue_size, workers, use_multiprocessing, shuffle, initial_epoch, mode, batch_size, steps_name, **kwargs)\u001b[0m\n\u001b[0;32m    262\u001b[0m \u001b[1;33m\u001b[0m\u001b[0m\n\u001b[0;32m    263\u001b[0m       \u001b[0mis_deferred\u001b[0m \u001b[1;33m=\u001b[0m \u001b[1;32mnot\u001b[0m \u001b[0mmodel\u001b[0m\u001b[1;33m.\u001b[0m\u001b[0m_is_compiled\u001b[0m\u001b[1;33m\u001b[0m\u001b[1;33m\u001b[0m\u001b[0m\n\u001b[1;32m--> 264\u001b[1;33m       \u001b[0mbatch_outs\u001b[0m \u001b[1;33m=\u001b[0m \u001b[0mbatch_function\u001b[0m\u001b[1;33m(\u001b[0m\u001b[1;33m*\u001b[0m\u001b[0mbatch_data\u001b[0m\u001b[1;33m)\u001b[0m\u001b[1;33m\u001b[0m\u001b[1;33m\u001b[0m\u001b[0m\n\u001b[0m\u001b[0;32m    265\u001b[0m       \u001b[1;32mif\u001b[0m \u001b[1;32mnot\u001b[0m \u001b[0misinstance\u001b[0m\u001b[1;33m(\u001b[0m\u001b[0mbatch_outs\u001b[0m\u001b[1;33m,\u001b[0m \u001b[0mlist\u001b[0m\u001b[1;33m)\u001b[0m\u001b[1;33m:\u001b[0m\u001b[1;33m\u001b[0m\u001b[1;33m\u001b[0m\u001b[0m\n\u001b[0;32m    266\u001b[0m         \u001b[0mbatch_outs\u001b[0m \u001b[1;33m=\u001b[0m \u001b[1;33m[\u001b[0m\u001b[0mbatch_outs\u001b[0m\u001b[1;33m]\u001b[0m\u001b[1;33m\u001b[0m\u001b[1;33m\u001b[0m\u001b[0m\n",
      "\u001b[1;32m~\\Anaconda3\\lib\\site-packages\\tensorflow\\python\\keras\\engine\\training.py\u001b[0m in \u001b[0;36mtrain_on_batch\u001b[1;34m(self, x, y, sample_weight, class_weight, reset_metrics)\u001b[0m\n\u001b[0;32m   1151\u001b[0m     x, y, sample_weights = self._standardize_user_data(\n\u001b[0;32m   1152\u001b[0m         \u001b[0mx\u001b[0m\u001b[1;33m,\u001b[0m \u001b[0my\u001b[0m\u001b[1;33m,\u001b[0m \u001b[0msample_weight\u001b[0m\u001b[1;33m=\u001b[0m\u001b[0msample_weight\u001b[0m\u001b[1;33m,\u001b[0m \u001b[0mclass_weight\u001b[0m\u001b[1;33m=\u001b[0m\u001b[0mclass_weight\u001b[0m\u001b[1;33m,\u001b[0m\u001b[1;33m\u001b[0m\u001b[1;33m\u001b[0m\u001b[0m\n\u001b[1;32m-> 1153\u001b[1;33m         extract_tensors_from_dataset=True)\n\u001b[0m\u001b[0;32m   1154\u001b[0m \u001b[1;33m\u001b[0m\u001b[0m\n\u001b[0;32m   1155\u001b[0m     \u001b[1;31m# If `self._distribution_strategy` is True, then we are in a replica context\u001b[0m\u001b[1;33m\u001b[0m\u001b[1;33m\u001b[0m\u001b[1;33m\u001b[0m\u001b[0m\n",
      "\u001b[1;32m~\\Anaconda3\\lib\\site-packages\\tensorflow\\python\\keras\\engine\\training.py\u001b[0m in \u001b[0;36m_standardize_user_data\u001b[1;34m(self, x, y, sample_weight, class_weight, batch_size, check_steps, steps_name, steps, validation_split, shuffle, extract_tensors_from_dataset)\u001b[0m\n\u001b[0;32m   2649\u001b[0m           \u001b[0mfeed_input_shapes\u001b[0m\u001b[1;33m,\u001b[0m\u001b[1;33m\u001b[0m\u001b[1;33m\u001b[0m\u001b[0m\n\u001b[0;32m   2650\u001b[0m           \u001b[0mcheck_batch_axis\u001b[0m\u001b[1;33m=\u001b[0m\u001b[1;32mFalse\u001b[0m\u001b[1;33m,\u001b[0m  \u001b[1;31m# Don't enforce the batch size.\u001b[0m\u001b[1;33m\u001b[0m\u001b[1;33m\u001b[0m\u001b[0m\n\u001b[1;32m-> 2651\u001b[1;33m           exception_prefix='input')\n\u001b[0m\u001b[0;32m   2652\u001b[0m \u001b[1;33m\u001b[0m\u001b[0m\n\u001b[0;32m   2653\u001b[0m     \u001b[1;32mif\u001b[0m \u001b[0my\u001b[0m \u001b[1;32mis\u001b[0m \u001b[1;32mnot\u001b[0m \u001b[1;32mNone\u001b[0m\u001b[1;33m:\u001b[0m\u001b[1;33m\u001b[0m\u001b[1;33m\u001b[0m\u001b[0m\n",
      "\u001b[1;32m~\\Anaconda3\\lib\\site-packages\\tensorflow\\python\\keras\\engine\\training_utils.py\u001b[0m in \u001b[0;36mstandardize_input_data\u001b[1;34m(data, names, shapes, check_batch_axis, exception_prefix)\u001b[0m\n\u001b[0;32m    374\u001b[0m                            \u001b[1;34m': expected '\u001b[0m \u001b[1;33m+\u001b[0m \u001b[0mnames\u001b[0m\u001b[1;33m[\u001b[0m\u001b[0mi\u001b[0m\u001b[1;33m]\u001b[0m \u001b[1;33m+\u001b[0m \u001b[1;34m' to have '\u001b[0m \u001b[1;33m+\u001b[0m\u001b[1;33m\u001b[0m\u001b[1;33m\u001b[0m\u001b[0m\n\u001b[0;32m    375\u001b[0m                            \u001b[0mstr\u001b[0m\u001b[1;33m(\u001b[0m\u001b[0mlen\u001b[0m\u001b[1;33m(\u001b[0m\u001b[0mshape\u001b[0m\u001b[1;33m)\u001b[0m\u001b[1;33m)\u001b[0m \u001b[1;33m+\u001b[0m \u001b[1;34m' dimensions, but got array '\u001b[0m\u001b[1;33m\u001b[0m\u001b[1;33m\u001b[0m\u001b[0m\n\u001b[1;32m--> 376\u001b[1;33m                            'with shape ' + str(data_shape))\n\u001b[0m\u001b[0;32m    377\u001b[0m         \u001b[1;32mif\u001b[0m \u001b[1;32mnot\u001b[0m \u001b[0mcheck_batch_axis\u001b[0m\u001b[1;33m:\u001b[0m\u001b[1;33m\u001b[0m\u001b[1;33m\u001b[0m\u001b[0m\n\u001b[0;32m    378\u001b[0m           \u001b[0mdata_shape\u001b[0m \u001b[1;33m=\u001b[0m \u001b[0mdata_shape\u001b[0m\u001b[1;33m[\u001b[0m\u001b[1;36m1\u001b[0m\u001b[1;33m:\u001b[0m\u001b[1;33m]\u001b[0m\u001b[1;33m\u001b[0m\u001b[1;33m\u001b[0m\u001b[0m\n",
      "\u001b[1;31mValueError\u001b[0m: Error when checking input: expected lstm_4_input to have 3 dimensions, but got array with shape (10, 10, 1, 100)"
     ]
    }
   ],
   "source": [
    "single_step_history = model.fit(train_data_single, epochs=EPOCHS,\n",
    "                                            steps_per_epoch=EVALUATION_INTERVAL,\n",
    "                                            validation_data=val_data_single,\n",
    "                                            validation_steps=5)"
   ]
  },
  {
   "cell_type": "code",
   "execution_count": 21,
   "metadata": {},
   "outputs": [],
   "source": [
    "def plot_train_history(history, title):\n",
    "  loss = history.history['loss']\n",
    "  val_loss = history.history['val_loss']\n",
    "\n",
    "  epochs = range(len(loss))\n",
    "\n",
    "  plt.figure()\n",
    "\n",
    "  plt.plot(epochs, loss, 'b', label='Training loss')\n",
    "  plt.plot(epochs, val_loss, 'r', label='Validation loss')\n",
    "  plt.title(title)\n",
    "  plt.legend()\n",
    "\n",
    "  plt.show()\n"
   ]
  },
  {
   "cell_type": "code",
   "execution_count": 24,
   "metadata": {},
   "outputs": [
    {
     "data": {
      "image/png": "[encoded data removed]",
      "text/plain": [
       "<Figure size 432x288 with 1 Axes>"
      ]
     },
     "metadata": {
      "needs_background": "light"
     },
     "output_type": "display_data"
    }
   ],
   "source": [
    "plot_train_history(single_step_history,\n",
    "                   'Single Step Training and validation loss')\n"
   ]
  },
  {
   "cell_type": "code",
   "execution_count": 25,
   "metadata": {},
   "outputs": [
    {
     "name": "stdout",
     "output_type": "stream",
     "text": [
      "Expected:  [60, 31, 60, 55, 75, 11, 55, 42, 43, 87, 64, 50, 95, 67, 99, 78, 81, 61, 45, 9, 58, 96, 6, 46, 94, 30, 41, 7, 79, 78, 20, 40, 85, 38, 52, 93, 23, 50, 85, 90, 81, 15, 91, 28, 4, 2, 40, 30, 98, 44, 56, 48, 61, 77, 16, 62, 95, 91, 60, 31, 98, 31, 2, 66, 7, 29, 21, 94, 20, 54, 85, 9, 38, 33, 18, 60, 0, 64, 94, 85, 47, 98, 24, 22, 28, 77, 43, 19, 10, 83, 79, 15, 6, 63, 59, 86, 59, 16, 4, 67, 42, 27, 39, 48, 57, 20, 6, 79, 71, 5, 99, 8, 62, 22, 22, 69, 20, 51, 97, 65, 73, 25, 36, 84, 41, 29, 8, 18, 93, 51, 42, 4, 36, 44, 95, 0, 96, 29, 33, 34, 8, 96, 86, 46, 26, 20, 25, 49, 26, 48, 51, 19, 11, 4, 54, 15, 73, 22, 98, 24, 45, 22, 72, 58, 39, 17, 9, 44, 78, 92, 82, 64, 66, 89, 74, 15, 80, 32, 84, 70, 45, 76, 48, 23, 51, 19, 26, 2, 93, 11, 23, 15, 3, 95, 58, 90, 1, 58, 33, 92, 53, 34, 78, 81, 33, 64, 37, 89, 53, 56, 91, 11, 98, 64, 34, 32, 61, 83, 45, 77, 69, 47, 46, 11, 58, 14, 44, 45, 48, 74, 61, 17, 7, 66, 37, 43, 57, 50, 9, 76, 56, 3, 18, 72, 58, 6, 55, 76, 66, 7, 52, 18, 39, 34, 74, 26, 46, 70, 54, 63, 72, 73, 4, 54, 85, 5, 15, 79, 73, 82, 10, 92, 53, 13, 24, 54, 16, 75, 0, 20, 0, 37, 8, 42, 40, 57, 79, 40, 67, 63, 39, 86, 27, 51, 68, 22, 54, 83, 73, 83, 14, 25, 54, 92, 20, 80, 86, 61, 32, 63, 32, 48, 40, 73, 78, 45, 32, 42, 75, 97, 8, 75, 54, 65, 42, 95, 71, 19, 72, 59, 10, 52, 6, 62, 5, 72, 95, 32, 4, 34, 18, 36, 46, 50, 11, 97, 5, 19, 31, 44, 87, 54, 76, 44, 73, 80, 71, 78, 78, 21, 71, 5, 93, 82, 5, 16, 6, 96, 16, 60, 32, 11, 41, 62, 66, 20, 37, 74, 66, 40, 84, 5, 68, 16, 28, 10, 81, 66, 56, 86, 42, 94, 29, 72, 33, 76, 75, 48, 22, 4, 10, 82, 71, 89, 79, 0, 60, 12, 44, 30, 48, 0, 27, 77, 7, 0, 35, 62, 44, 80, 4, 45, 72, 40, 75, 70, 98, 59, 35, 59, 78, 81, 26, 96, 7, 13, 82, 50, 55, 91, 45, 91, 22, 16, 99, 0, 86, 11, 32, 87, 55, 74, 78, 89, 9, 69, 10, 93, 4, 69, 78, 69, 62, 92, 76, 3, 17, 96, 3, 27, 9, 29, 50, 86, 18, 52, 69, 84, 71, 15, 79, 90, 64, 31, 81, 82, 64, 40, 13, 25, 94, 10, 76, 64, 68, 64, 71, 69, 75, 63, 14, 73, 45, 8, 56, 58, 8, 36, 33, 60, 7, 27, 84, 21, 6, 85, 70, 58, 45, 97, 90, 50, 73, 67, 50, 96, 14, 53, 4, 42, 28, 21, 21, 21, 37, 88, 50, 81, 48, 26, 18, 71, 55, 80, 41, 18, 56, 13, 16, 24, 33, 33, 27, 54, 71, 39, 23, 71, 11, 62, 73, 42, 12, 70, 66, 62, 4, 46, 22, 61, 43, 28, 67, 14, 11, 86, 22, 31, 93, 61, 38, 75, 1, 79, 48, 62, 97, 91, 75, 15, 74, 56, 33, 41, 7, 66, 4, 24, 76, 7, 0, 29, 83, 25, 63, 80, 62, 3, 45, 82, 68, 65, 80, 80, 48, 57, 7, 46, 49, 53, 9, 50, 63, 20, 9, 35, 81, 81, 5, 56, 42, 68, 97, 49, 62, 33, 95, 29, 14, 18, 53, 72, 3, 78, 1, 29, 20, 24, 65, 89, 90, 23, 42, 95, 64, 59, 77, 59, 65, 28, 50, 87, 53, 14, 59, 95, 58, 75, 83, 5, 82, 37, 29, 77, 10, 0, 92, 92, 44, 17, 69, 38, 47, 82, 16, 90, 53, 47, 11, 80, 12, 44, 27, 32, 18, 90, 81, 54, 64, 36, 65, 6, 82, 57, 15, 42, 77, 36, 29, 36, 98, 82, 80, 82, 19, 0, 67, 16, 48, 9, 45, 91, 86, 57, 10, 69, 72, 1, 2, 24, 24, 89, 16, 19, 58, 14, 91, 46, 90, 91, 28, 18, 47, 69, 23, 65, 19, 80, 65, 55, 21, 32, 96, 38, 38, 17, 63, 8, 97, 58, 81, 56, 35, 7, 42, 51, 47, 32, 53, 85, 64, 54, 65, 25, 54, 62, 32, 83, 11, 92, 81, 80, 65, 83, 75, 69, 49, 35, 62, 21, 15, 48, 39, 65, 87, 53, 10, 90, 28, 78, 53, 86, 99, 48, 45, 56, 91, 72, 41, 84, 41, 62, 23, 57, 5, 22, 29, 76, 13, 5, 65, 88, 33, 80, 59, 87, 49, 27, 39, 92, 22, 30, 33, 92, 80, 39, 73, 44, 87, 53, 24, 72, 94, 79, 43, 20, 85, 23, 60, 30, 77, 82, 30, 47, 10, 85, 38, 43, 57, 67, 14, 56, 50, 4, 74, 58, 53, 87, 93, 62, 58, 77, 17, 88, 74, 67, 19, 95, 48, 33, 31, 62, 72, 23, 69, 33, 78, 85, 56, 36, 59, 12, 20, 35, 43, 21, 75, 60, 89, 77, 35, 45, 84, 87, 19, 5, 28, 12, 38, 85, 65, 55, 35, 78, 93, 61, 0, 74, 6, 21, 93, 8, 66, 11, 7, 33, 13, 67, 32, 49, 13, 6, 44, 70, 13, 10, 53, 67, 9, 92, 62, 68, 98, 91, 85, 35, 13, 50, 50, 56, 32, 53, 73, 11, 57, 27, 89, 21, 46, 71, 28, 74, 24, 24, 28, 48, 31, 31, 71, 60, 89, 9, 91, 27, 95, 64, 72, 6, 81, 21, 34, 21, 13, 71, 20, 60, 51, 73, 8, 42, 44, 74, 76, 38, 56, 18, 42, 91, 15, 59]\n",
      "Predicted: [60, 31, 60, 55, 75, 11, 55, 42, 43, 87, 64, 50, 95, 67, 99, 78, 73, 61, 45, 9, 58, 96, 6, 46, 24, 30, 41, 7, 79, 78, 20, 40, 85, 38, 52, 93, 23, 50, 85, 90, 73, 15, 91, 28, 4, 2, 40, 30, 98, 44, 56, 48, 61, 77, 16, 62, 95, 91, 60, 31, 98, 31, 2, 66, 7, 29, 21, 24, 20, 54, 85, 9, 38, 33, 18, 60, 0, 64, 24, 85, 47, 98, 24, 14, 28, 77, 43, 19, 10, 83, 79, 15, 6, 63, 59, 86, 59, 16, 4, 67, 42, 27, 39, 48, 57, 20, 6, 79, 71, 5, 99, 8, 62, 14, 14, 69, 20, 51, 97, 65, 73, 25, 36, 84, 41, 29, 8, 18, 93, 51, 42, 4, 36, 44, 95, 0, 96, 29, 33, 34, 8, 96, 86, 46, 26, 20, 25, 49, 26, 48, 51, 19, 11, 4, 54, 15, 73, 14, 98, 24, 45, 14, 72, 58, 39, 17, 9, 44, 78, 92, 82, 64, 66, 89, 74, 15, 80, 32, 84, 70, 45, 76, 48, 23, 51, 19, 26, 2, 93, 11, 23, 15, 3, 95, 58, 90, 1, 58, 33, 92, 53, 34, 78, 73, 33, 64, 37, 89, 53, 56, 91, 11, 98, 64, 34, 32, 61, 83, 45, 77, 69, 47, 46, 11, 58, 14, 44, 45, 48, 74, 61, 17, 7, 66, 37, 43, 57, 50, 9, 76, 56, 3, 18, 72, 58, 6, 55, 76, 66, 7, 52, 18, 39, 34, 74, 26, 46, 70, 54, 63, 72, 73, 4, 54, 85, 5, 15, 79, 73, 82, 10, 92, 53, 13, 24, 54, 16, 75, 0, 20, 0, 37, 8, 42, 40, 57, 79, 40, 67, 63, 39, 86, 27, 51, 68, 14, 54, 83, 73, 83, 14, 25, 54, 92, 20, 80, 86, 61, 32, 63, 32, 48, 40, 73, 78, 45, 32, 42, 75, 97, 8, 75, 54, 65, 42, 95, 71, 19, 72, 59, 10, 52, 6, 62, 5, 72, 95, 32, 4, 34, 18, 36, 46, 50, 11, 97, 5, 19, 31, 44, 87, 54, 76, 44, 73, 80, 71, 78, 78, 21, 71, 5, 93, 82, 5, 16, 6, 96, 16, 60, 32, 11, 41, 62, 66, 20, 37, 74, 66, 40, 84, 5, 68, 16, 28, 10, 73, 66, 56, 86, 42, 24, 29, 72, 33, 76, 75, 48, 14, 4, 10, 82, 71, 89, 79, 0, 60, 12, 44, 30, 48, 0, 27, 77, 7, 0, 35, 62, 44, 80, 4, 45, 72, 40, 75, 70, 98, 59, 35, 59, 78, 73, 26, 96, 7, 13, 82, 50, 55, 91, 45, 91, 14, 16, 99, 0, 86, 11, 32, 87, 55, 74, 78, 89, 9, 69, 10, 93, 4, 69, 78, 69, 62, 92, 76, 3, 17, 96, 3, 27, 9, 29, 50, 86, 18, 52, 69, 84, 71, 15, 79, 90, 64, 31, 73, 82, 64, 40, 13, 25, 24, 10, 76, 64, 68, 64, 71, 69, 75, 63, 14, 73, 45, 8, 56, 58, 8, 36, 33, 60, 7, 27, 84, 21, 6, 85, 70, 58, 45, 97, 90, 50, 73, 67, 50, 96, 14, 53, 4, 42, 28, 21, 21, 21, 37, 88, 50, 73, 48, 26, 18, 71, 55, 80, 41, 18, 56, 13, 16, 24, 33, 33, 27, 54, 71, 39, 23, 71, 11, 62, 73, 42, 12, 70, 66, 62, 4, 46, 14, 61, 43, 28, 67, 14, 11, 86, 14, 31, 93, 61, 38, 75, 1, 79, 48, 62, 97, 91, 75, 15, 74, 56, 33, 41, 7, 66, 4, 24, 76, 7, 0, 29, 83, 25, 63, 80, 62, 3, 45, 82, 68, 65, 80, 80, 48, 57, 7, 46, 49, 53, 9, 50, 63, 20, 9, 35, 73, 73, 5, 56, 42, 68, 97, 49, 62, 33, 95, 29, 14, 18, 53, 72, 3, 78, 1, 29, 20, 24, 65, 89, 90, 23, 42, 95, 64, 59, 77, 59, 65, 28, 50, 87, 53, 14, 59, 95, 58, 75, 83, 5, 82, 37, 29, 77, 10, 0, 92, 92, 44, 17, 69, 38, 47, 82, 16, 90, 53, 47, 11, 80, 12, 44, 27, 32, 18, 90, 73, 54, 64, 36, 65, 6, 82, 57, 15, 42, 77, 36, 29, 36, 98, 82, 80, 82, 19, 0, 67, 16, 48, 9, 45, 91, 86, 57, 10, 69, 72, 1, 2, 24, 24, 89, 16, 19, 58, 14, 91, 46, 90, 91, 28, 18, 47, 69, 23, 65, 19, 80, 65, 55, 21, 32, 96, 38, 38, 17, 63, 8, 97, 58, 73, 56, 35, 7, 42, 51, 47, 32, 53, 85, 64, 54, 65, 25, 54, 62, 32, 83, 11, 92, 73, 80, 65, 83, 75, 69, 49, 35, 62, 21, 15, 48, 39, 65, 87, 53, 10, 90, 28, 78, 53, 86, 99, 48, 45, 56, 91, 72, 41, 84, 41, 62, 23, 57, 5, 14, 29, 76, 13, 5, 65, 88, 33, 80, 59, 87, 49, 27, 39, 92, 14, 30, 33, 92, 80, 39, 73, 44, 87, 53, 24, 72, 24, 79, 43, 20, 85, 23, 60, 30, 77, 82, 30, 47, 10, 85, 38, 43, 57, 67, 14, 56, 50, 4, 74, 58, 53, 87, 93, 62, 58, 77, 17, 88, 74, 67, 19, 95, 48, 33, 31, 62, 72, 23, 69, 33, 78, 85, 56, 36, 59, 12, 20, 35, 43, 21, 75, 60, 89, 77, 35, 45, 84, 87, 19, 5, 28, 12, 38, 85, 65, 55, 35, 78, 93, 61, 0, 74, 6, 21, 93, 8, 66, 11, 7, 33, 13, 67, 32, 49, 13, 6, 44, 70, 13, 10, 53, 67, 9, 92, 62, 68, 98, 91, 85, 35, 13, 50, 50, 56, 32, 53, 73, 11, 57, 27, 89, 21, 46, 71, 28, 74, 24, 24, 28, 48, 31, 31, 71, 60, 89, 9, 91, 27, 95, 64, 72, 6, 73, 21, 34, 21, 13, 71, 20, 60, 51, 73, 8, 42, 44, 74, 76, 38, 56, 18, 42, 91, 15, 59]\n"
     ]
    }
   ],
   "source": [
    "# evaluate model on new data\n",
    "X, y = generate_data()\n",
    "yhat = model.predict(X)\n",
    "print('Expected:  %s' % one_hot_decode(y))\n",
    "print('Predicted: %s' % one_hot_decode(yhat))"
   ]
  },
  {
   "cell_type": "code",
   "execution_count": null,
   "metadata": {},
   "outputs": [],
   "source": []
  }
 ],
 "metadata": {
  "kernelspec": {
   "display_name": "Python 3",
   "language": "python",
   "name": "python3"
  },
  "language_info": {
   "codemirror_mode": {
    "name": "ipython",
    "version": 3
   },
   "file_extension": ".py",
   "mimetype": "text/x-python",
   "name": "python",
   "nbconvert_exporter": "python",
   "pygments_lexer": "ipython3",
   "version": "3.7.3"
  }
 },
 "nbformat": 4,
 "nbformat_minor": 2
}
